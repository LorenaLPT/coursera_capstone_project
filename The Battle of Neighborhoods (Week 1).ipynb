{
 "cells": [
  {
   "cell_type": "markdown",
   "metadata": {},
   "source": [
    "# Discussion of the background"
   ]
  },
  {
   "cell_type": "markdown",
   "metadata": {},
   "source": [
    "According to the National Restaurant Association, restaurants are a driving force in New York’s economy. They provide jobs and build careers for thousands of people, and play a vital role in local communities throughout the state. \n",
    "- In 2018 there were 50,153 Eating and drinking place locations in New York.\n",
    "- The Estimated sales in New York’s restaurants were \\$51.6 billion.\n",
    "- In 2019 there were 865,800 restaurant and foodservice jobs in New York , representing 9% of employment in the state.\n",
    "- Every dollar spent in the tableservice segment contributes $1.76 to the state economy.\n",
    "Half of all American adults have worked in the restaurant industry, and millions have sucessful professions in this vibrant industry.\n"
   ]
  },
  {
   "cell_type": "markdown",
   "metadata": {},
   "source": [
    "On the other hand, small businesses can't hire advertising agencies for campaigns involving a huge amount of money, so if any of those brands wants to set up an advertising campaign they should:\n",
    "\n",
    "- Define their advertising goals.\n",
    "- Pick what they want to promote.\n",
    "- Identify their target audience.\n",
    "- Determine where to find their audience.\n",
    "- Decide the campaign timing.\n",
    "- Set an advertising budget.\n",
    "- Select outlets to advertise in.\n",
    "- Create the advertising message and graphics.\n"
   ]
  },
  {
   "cell_type": "markdown",
   "metadata": {},
   "source": [
    "# Problem"
   ]
  },
  {
   "cell_type": "markdown",
   "metadata": {},
   "source": [
    "A new and small wine brand would want to be widely known in NYC in a shortest period of time. In order to achive this they need to set up an optimal advertising campaigne minimizing the cost and maximizing its profits.\n",
    "\n",
    "Following the steps above, they want to promote their young red wine and their fruity white one. For this they seek areas (neighborhoods) localized whith high density of restaurants and high afluent of customers"
   ]
  },
  {
   "cell_type": "markdown",
   "metadata": {},
   "source": [
    "# Data"
   ]
  },
  {
   "cell_type": "markdown",
   "metadata": {},
   "source": [
    "### TLC Trip Record Data\n",
    "\n",
    "The yellow and green taxi trip records include fields capturing pick-up and drop-off dates/times, pick-up and drop-off locations, trip distances, itemized fares, rate types, payment types, and driver-reported passenger counts. The data used in these datasets were collected and provided to the NYC Taxi and Limousine Commission (TLC) by technology providers authorized under the Taxicab & Livery Passenger Enhancement Programs (TPEP/LPEP).\n",
    "\n",
    "With this information we will work to find those neighborhoods where there is high density of drop-off during the time ranges that we will stablish for lunch and dinner.\n",
    "\n",
    "- https://nyc-tlc.s3.amazonaws.com/trip+data/yellow_tripdata_2019-12.csv\n",
    "- https://nyc-tlc.s3.amazonaws.com/trip+data/green_tripdata_2019-12.csv\n",
    "\n",
    "We are going to choose trip data from december 2019\n"
   ]
  },
  {
   "cell_type": "markdown",
   "metadata": {},
   "source": [
    "### Taxi Zones\n",
    "\n",
    "Official zones that correspond with pick-up and drop-off locations\n",
    "\n",
    "- https://data.cityofnewyork.us/api/geospatial/d3c5-ddgc?method=export&format=GeoJSON"
   ]
  },
  {
   "cell_type": "markdown",
   "metadata": {},
   "source": [
    "### Foursquare API\n",
    "\n",
    "It will provide us venues information (restricted to restaurant) for each neighborhood. We will use the Foursquare API to explore neighborhoods in New York City"
   ]
  },
  {
   "cell_type": "code",
   "execution_count": null,
   "metadata": {},
   "outputs": [],
   "source": []
  }
 ],
 "metadata": {
  "kernelspec": {
   "display_name": "Python 3",
   "language": "python",
   "name": "python3"
  },
  "language_info": {
   "codemirror_mode": {
    "name": "ipython",
    "version": 3
   },
   "file_extension": ".py",
   "mimetype": "text/x-python",
   "name": "python",
   "nbconvert_exporter": "python",
   "pygments_lexer": "ipython3",
   "version": "3.7.3"
  }
 },
 "nbformat": 4,
 "nbformat_minor": 2
}
